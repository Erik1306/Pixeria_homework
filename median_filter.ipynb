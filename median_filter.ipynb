{
 "cells": [
  {
   "cell_type": "code",
   "execution_count": 1,
   "id": "metallic-safety",
   "metadata": {},
   "outputs": [],
   "source": [
    "import numpy as np\n",
    "import matplotlib.pyplot as plt\n",
    "import cv2 as cv"
   ]
  },
  {
   "cell_type": "code",
   "execution_count": 12,
   "id": "sized-morgan",
   "metadata": {},
   "outputs": [],
   "source": [
    "def median_filter(img):\n",
    "    image = cv.cvtColor(img, cv.COLOR_BGR2RGB)\n",
    "    \n",
    "    med_arr = np.array([])\n",
    "    for j in range(image.shape[0]):\n",
    "        if ((j+3) > image.shape[0]):\n",
    "            break\n",
    "        else:\n",
    "        \n",
    "            for k in range(image.shape[1]):\n",
    "                if ((k+3) > image.shape[1]):\n",
    "                    break\n",
    "                else:\n",
    "        \n",
    "                    for i in range (image.shape[2]):\n",
    "                \n",
    "                        med = np.median(image[j:j+3,k:k+3,i])\n",
    "                        \n",
    "                        med_arr = np.append(med_arr, med)\n",
    "\n",
    "    new_img = med_arr.reshape(image.shape[0]-2,image.shape[1]-2,3)\n",
    "            \n",
    "\n",
    "    return (new_img)"
   ]
  },
  {
   "cell_type": "code",
   "execution_count": 3,
   "id": "infinite-projector",
   "metadata": {},
   "outputs": [],
   "source": [
    "img = cv.imread('image_noice.jpg')"
   ]
  },
  {
   "cell_type": "code",
   "execution_count": 5,
   "id": "important-connectivity",
   "metadata": {},
   "outputs": [
    {
     "data": {
      "text/plain": [
       "(300, 300, 3)"
      ]
     },
     "execution_count": 5,
     "metadata": {},
     "output_type": "execute_result"
    }
   ],
   "source": [
    "img.shape"
   ]
  },
  {
   "cell_type": "code",
   "execution_count": 13,
   "id": "fifth-philadelphia",
   "metadata": {},
   "outputs": [],
   "source": [
    "median_img = median_filter(img)"
   ]
  },
  {
   "cell_type": "code",
   "execution_count": 17,
   "id": "eight-relaxation",
   "metadata": {},
   "outputs": [
    {
     "data": {
      "text/plain": [
       "(298, 298, 3)"
      ]
     },
     "execution_count": 17,
     "metadata": {},
     "output_type": "execute_result"
    }
   ],
   "source": [
    "median_img.shape"
   ]
  },
  {
   "cell_type": "code",
   "execution_count": 18,
   "id": "raised-christmas",
   "metadata": {},
   "outputs": [
    {
     "name": "stderr",
     "output_type": "stream",
     "text": [
      "Clipping input data to the valid range for imshow with RGB data ([0..1] for floats or [0..255] for integers).\n"
     ]
    },
    {
     "data": {
      "image/png": "[encoded data removed]",
      "text/plain": [
       "<Figure size 432x288 with 1 Axes>"
      ]
     },
     "metadata": {
      "needs_background": "light"
     },
     "output_type": "display_data"
    }
   ],
   "source": [
    "plt.imshow(median_img)\n",
    "plt.show()"
   ]
  },
  {
   "cell_type": "code",
   "execution_count": 19,
   "id": "reverse-valuable",
   "metadata": {},
   "outputs": [],
   "source": [
    "median_img= cv.imwrite('median.jpg', median_img)"
   ]
  },
  {
   "cell_type": "code",
   "execution_count": null,
   "id": "catholic-textbook",
   "metadata": {},
   "outputs": [],
   "source": []
  }
 ],
 "metadata": {
  "kernelspec": {
   "display_name": "Python 3",
   "language": "python",
   "name": "python3"
  },
  "language_info": {
   "codemirror_mode": {
    "name": "ipython",
    "version": 3
   },
   "file_extension": ".py",
   "mimetype": "text/x-python",
   "name": "python",
   "nbconvert_exporter": "python",
   "pygments_lexer": "ipython3",
   "version": "3.8.8"
  }
 },
 "nbformat": 4,
 "nbformat_minor": 5
}
